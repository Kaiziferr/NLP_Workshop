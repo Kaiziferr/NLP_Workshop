{
  "nbformat": 4,
  "nbformat_minor": 0,
  "metadata": {
    "colab": {
      "name": "w0_generate_text_chain_markov.ipynb",
      "provenance": [],
      "collapsed_sections": [],
      "authorship_tag": "ABX9TyMhERMuL362o7pfIJD/uesp",
      "include_colab_link": true
    },
    "kernelspec": {
      "name": "python3",
      "display_name": "Python 3"
    },
    "language_info": {
      "name": "python"
    }
  },
  "cells": [
    {
      "cell_type": "markdown",
      "metadata": {
        "id": "view-in-github",
        "colab_type": "text"
      },
      "source": [
        "<a href=\"https://colab.research.google.com/github/Kaiziferr/NLP_Workshop/blob/master/GNT/w0_generate_text_chain_markov.ipynb\" target=\"_parent\"><img src=\"https://colab.research.google.com/assets/colab-badge.svg\" alt=\"Open In Colab\"/></a>"
      ]
    },
    {
      "cell_type": "code",
      "metadata": {
        "id": "czwV0ZbwPCZM"
      },
      "source": [
        "import pandas as pd\n",
        "from collections import defaultdict\n",
        "import random"
      ],
      "execution_count": 1,
      "outputs": []
    },
    {
      "cell_type": "markdown",
      "metadata": {
        "id": "aDn9JtKnPcwn"
      },
      "source": [
        "# Chain of chars"
      ]
    },
    {
      "cell_type": "code",
      "metadata": {
        "id": "9482LB-sPbPi"
      },
      "source": [
        "\"\"\"\n",
        "  [descripción]\n",
        "    - genera ngrams\n",
        "  [values]\n",
        "    - text : texto a procesar \n",
        "    - order: número de caracteres por ngrama\n",
        "  [precondición]\n",
        "    - text : string obligatorio\n",
        "    - order: entero obligatorio\n",
        "  [poscondición]\n",
        "    - un diccionario de ngramas, así como su lista de posibles caracteres\n",
        "\"\"\"\n",
        "def markov_chain_chars(text, order):\n",
        "  ngrams = {}\n",
        "  i = 0\n",
        "  while i < (len(text) - order):\n",
        "    ngram = text[i:i+order]\n",
        "    if ngram not in ngrams:\n",
        "      ngrams[ngram] = []\n",
        "    ngrams[ngram].append(text[i+order])\n",
        "    i = i+1\n",
        "  return ngrams"
      ],
      "execution_count": 2,
      "outputs": []
    },
    {
      "cell_type": "code",
      "metadata": {
        "id": "zgOC9EjFQv1p"
      },
      "source": [
        "\"\"\"\n",
        "  [descripción]\n",
        "    - genera nuevo texto\n",
        "  [values]\n",
        "    - ngrams : diccionario de ngramas, así como su lista de posibles caracteres\n",
        "    - order  : número de caracteres por ngrama\n",
        "    - count  : extensión del nuevo texto\n",
        "  [precondición]\n",
        "    - text   : string obligatorio\n",
        "    - order  : entero obligatorio\n",
        "    - count  : entero obligatorio\n",
        "  [poscondición]\n",
        "    - nuevo texto\n",
        "\"\"\"\n",
        "def text_generator_chars(order, ngrams, count):\n",
        "  current = random.choice(list(ngrams.keys())) \n",
        "  i = 0\n",
        "  result = current\n",
        "  while i < count:\n",
        "    if current not in ngrams.keys():\n",
        "      current = random.choice(list(ngrams.keys()))\n",
        "    possibilities = ngrams[current]\n",
        "    next = random.choice(possibilities)\n",
        "    result = f'{result}{next}'\n",
        "    current = result[len(result)-order:len(result)]\n",
        "    i = i + 1\n",
        "  result = f'{result}.'\n",
        "  return result"
      ],
      "execution_count": 17,
      "outputs": []
    },
    {
      "cell_type": "code",
      "metadata": {
        "id": "mwZJeuUPQTZ8"
      },
      "source": [
        "texto = \"\"\"Aprendizaje profundo (en inglés, deep learning) es un conjunto de algoritmos de aprendizaje automático (en inglés, machine learning) que intenta modelar abstracciones de alto nivel en datos usando arquitecturas computacionales que admiten transformaciones no lineales múltiples e iterativas de datos expresados en forma matricial o tensorial.\"\"\""
      ],
      "execution_count": 18,
      "outputs": []
    },
    {
      "cell_type": "code",
      "metadata": {
        "colab": {
          "base_uri": "https://localhost:8080/",
          "height": 35
        },
        "id": "kKxMMbobTFTK",
        "outputId": "d9f56468-4f72-4b2d-98eb-0f13e313152b"
      },
      "source": [
        "order = 10\n",
        "count = 100\n",
        "ngrams = markov_chain_chars(texto, order)\n",
        "text_generator_chars(order, ngrams, count)"
      ],
      "execution_count": 19,
      "outputs": [
        {
          "output_type": "execute_result",
          "data": {
            "application/vnd.google.colaboratory.intrinsic+json": {
              "type": "string"
            },
            "text/plain": [
              "'e admiten transformaciones no lineales múltiples e iterativas de datos expresados en forma matricial o tensori.'"
            ]
          },
          "metadata": {},
          "execution_count": 19
        }
      ]
    },
    {
      "cell_type": "markdown",
      "metadata": {
        "id": "WRettqT8ggBX"
      },
      "source": [
        "# Chain of word"
      ]
    },
    {
      "cell_type": "code",
      "metadata": {
        "id": "hY0ced6sgkfX"
      },
      "source": [
        "\"\"\"\n",
        "  [descripción]\n",
        "    - crea una estructura de datos, donde por cada palabra se adiciona una lista de probabilidades de la palabra subsiguiente \n",
        "  [values]\n",
        "    - text : texto base\n",
        "  [precondición]\n",
        "    - text : string obligatorio\n",
        "  [poscondición]\n",
        "    - retorna un diccionario con cada palabra del documento base y su listado de palabras probables de seguir.\n",
        "\"\"\"\n",
        "def markov_chain_words(text):\n",
        "  words = text.split(' ')\n",
        "  m_dict = defaultdict(list)\n",
        "  for current_word, next_word in zip(words[0: -1], words[1:]):\n",
        "    m_dict[current_word].append(next_word)\n",
        "  m_dict = dict(m_dict)\n",
        "  return m_dict"
      ],
      "execution_count": 21,
      "outputs": []
    },
    {
      "cell_type": "code",
      "metadata": {
        "id": "iI2Grdw5l7XS"
      },
      "source": [
        "\"\"\"\n",
        "  [descripción]\n",
        "    - genera nuevo texto\n",
        "  [values]\n",
        "    - chain : estructura de datos con la información de probabilidades\n",
        "    - count : tamaño que debe tener el nuevo texto\n",
        "    - seed  : palabra semilla, donde se desencadena el proceso de generar un nuevo texto\n",
        "  [precondición]\n",
        "    - chain : diccionario obligatorio\n",
        "    - count : entero obligatorio\n",
        "    - seed  : cadena opcional\n",
        "  [poscondición]\n",
        "    - genera un nuevo texto\n",
        "\"\"\"\n",
        "def text_generator_words(chain,  count, seed=None):\n",
        "  current = random.choice(list(chain.keys()))\n",
        "  if seed:\n",
        "    current = seed\n",
        "  sentence = current.capitalize()\n",
        "  for i in range(count - 1):\n",
        "    if current not in chain.keys():\n",
        "      current = random.choice(list(chain.keys()))\n",
        "    current = random.choice(list(chain[current]))\n",
        "    sentence = f'{sentence} {current}'\n",
        "  sentence = f'{sentence}.'\n",
        "  return sentence"
      ],
      "execution_count": 45,
      "outputs": []
    },
    {
      "cell_type": "code",
      "metadata": {
        "colab": {
          "base_uri": "https://localhost:8080/",
          "height": 90
        },
        "id": "5j5_CsbAochF",
        "outputId": "8135a086-11a1-4486-e8c2-616ea7f4e8a3"
      },
      "source": [
        "count = 80\n",
        "chain = markov_chain_words(texto)\n",
        "text_generator_words(chain, count, 'datos')"
      ],
      "execution_count": 46,
      "outputs": [
        {
          "output_type": "execute_result",
          "data": {
            "application/vnd.google.colaboratory.intrinsic+json": {
              "type": "string"
            },
            "text/plain": [
              "'Datos usando arquitecturas computacionales que admiten transformaciones no lineales múltiples e iterativas de algoritmos de aprendizaje automático (en inglés, deep learning) que admiten transformaciones no lineales múltiples e iterativas de datos expresados en datos usando arquitecturas computacionales que intenta modelar abstracciones de aprendizaje automático (en inglés, machine learning) que admiten transformaciones no lineales múltiples e iterativas de aprendizaje automático (en inglés, deep learning) que intenta modelar abstracciones de algoritmos de datos usando arquitecturas computacionales que admiten transformaciones no lineales múltiples.'"
            ]
          },
          "metadata": {},
          "execution_count": 46
        }
      ]
    }
  ]
}