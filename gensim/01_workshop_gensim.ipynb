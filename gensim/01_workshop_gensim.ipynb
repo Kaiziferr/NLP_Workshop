{
  "nbformat": 4,
  "nbformat_minor": 0,
  "metadata": {
    "colab": {
      "name": "01_workshop_gensim.ipynb",
      "provenance": [],
      "authorship_tag": "ABX9TyP97qLzGzcc+JJlzl4LvZ2l",
      "include_colab_link": true
    },
    "kernelspec": {
      "name": "python3",
      "display_name": "Python 3"
    },
    "language_info": {
      "name": "python"
    }
  },
  "cells": [
    {
      "cell_type": "markdown",
      "metadata": {
        "id": "view-in-github",
        "colab_type": "text"
      },
      "source": [
        "<a href=\"https://colab.research.google.com/github/Kaiziferr/NLP_Workshop/blob/master/gensim/01_workshop_gensim.ipynb\" target=\"_parent\"><img src=\"https://colab.research.google.com/assets/colab-badge.svg\" alt=\"Open In Colab\"/></a>"
      ]
    },
    {
      "cell_type": "code",
      "metadata": {
        "colab": {
          "base_uri": "https://localhost:8080/"
        },
        "id": "drcAupVJOaf5",
        "outputId": "c2c78f82-8adf-46db-96b4-71e445dafde0"
      },
      "source": [
        "!pip install --upgrade gensim"
      ],
      "execution_count": 2,
      "outputs": [
        {
          "output_type": "stream",
          "name": "stdout",
          "text": [
            "Requirement already satisfied: gensim in /usr/local/lib/python3.7/dist-packages (4.1.2)\n",
            "Requirement already satisfied: smart-open>=1.8.1 in /usr/local/lib/python3.7/dist-packages (from gensim) (5.2.1)\n",
            "Requirement already satisfied: scipy>=0.18.1 in /usr/local/lib/python3.7/dist-packages (from gensim) (1.4.1)\n",
            "Requirement already satisfied: numpy>=1.17.0 in /usr/local/lib/python3.7/dist-packages (from gensim) (1.19.5)\n"
          ]
        }
      ]
    },
    {
      "cell_type": "code",
      "metadata": {
        "id": "y0nSdT5BkTnM",
        "colab": {
          "base_uri": "https://localhost:8080/"
        },
        "outputId": "fbb6dd4c-42bd-4dae-830f-de85ad443c11"
      },
      "source": [
        "import gensim.downloader as api\n",
        "wv = api.load('word2vec-google-news-300')"
      ],
      "execution_count": 5,
      "outputs": [
        {
          "output_type": "stream",
          "name": "stdout",
          "text": [
            "[==================================================] 100.0% 1662.8/1662.8MB downloaded\n"
          ]
        }
      ]
    },
    {
      "cell_type": "code",
      "metadata": {
        "colab": {
          "base_uri": "https://localhost:8080/",
          "height": 34
        },
        "id": "EO9eYhg9TF_-",
        "outputId": "975a8c01-f45a-4486-bba8-1920ec9636e5"
      },
      "source": [
        "gensim.__version__"
      ],
      "execution_count": 6,
      "outputs": [
        {
          "output_type": "execute_result",
          "data": {
            "application/vnd.google.colaboratory.intrinsic+json": {
              "type": "string"
            },
            "text/plain": [
              "'4.1.2'"
            ]
          },
          "metadata": {},
          "execution_count": 6
        }
      ]
    },
    {
      "cell_type": "code",
      "metadata": {
        "colab": {
          "base_uri": "https://localhost:8080/"
        },
        "id": "Hgtukq3kTKhW",
        "outputId": "abfadff7-6f24-4064-84e9-a55e9f9be67a"
      },
      "source": [
        "#  recuperar el vocabulario de un modelo\n",
        "for index, word in enumerate(wv.index_to_key):\n",
        "  if index == 10:\n",
        "    break\n",
        "  print(index, word)"
      ],
      "execution_count": 8,
      "outputs": [
        {
          "output_type": "stream",
          "name": "stdout",
          "text": [
            "0 </s>\n",
            "1 in\n",
            "2 for\n",
            "3 that\n",
            "4 is\n",
            "5 on\n",
            "6 ##\n",
            "7 The\n",
            "8 with\n",
            "9 said\n"
          ]
        }
      ]
    },
    {
      "cell_type": "code",
      "metadata": {
        "colab": {
          "base_uri": "https://localhost:8080/"
        },
        "id": "f6x0s65XThNM",
        "outputId": "a5355fbb-6419-4a06-f353-47541e15bd12"
      },
      "source": [
        "# Optener el vector asociado en las 300 dimensiones\n",
        "vec_king = wv['king']\n",
        "vec_king.shape"
      ],
      "execution_count": 12,
      "outputs": [
        {
          "output_type": "execute_result",
          "data": {
            "text/plain": [
              "(300,)"
            ]
          },
          "metadata": {},
          "execution_count": 12
        }
      ]
    },
    {
      "cell_type": "code",
      "metadata": {
        "colab": {
          "base_uri": "https://localhost:8080/"
        },
        "id": "rJMNgz0JUCGe",
        "outputId": "2296e622-eb5d-4ba2-b844-07f0973d2e7e"
      },
      "source": [
        "try:\n",
        "  vec_cameron = wv['cameroon']\n",
        "except KeyError:\n",
        "  print(\"The word 'cameroon' does not appear in this model\")"
      ],
      "execution_count": 15,
      "outputs": [
        {
          "output_type": "stream",
          "name": "stdout",
          "text": [
            "The word 'cameroon' does not appear in this model\n"
          ]
        }
      ]
    },
    {
      "cell_type": "code",
      "metadata": {
        "colab": {
          "base_uri": "https://localhost:8080/"
        },
        "id": "Iw5p1KLoU7HU",
        "outputId": "81b35bee-bc42-42f7-8fbc-292d6015e07d"
      },
      "source": [
        "pairs = [\n",
        "         ('Car', 'minivan'),\n",
        "         ('Car', 'bicycle'),\n",
        "         ('Car', 'airplane'),\n",
        "         ('Car', 'cereal'),\n",
        "         ('Car', 'communism'),\n",
        "]\n",
        "\n",
        "for w1, w2 in pairs:\n",
        "  print('%r\\t%r\\t%.2f' % (w1, w2, wv.similarity(w1,w2)))"
      ],
      "execution_count": 19,
      "outputs": [
        {
          "output_type": "stream",
          "name": "stdout",
          "text": [
            "'Car'\t'minivan'\t0.40\n",
            "'Car'\t'bicycle'\t0.33\n",
            "'Car'\t'airplane'\t0.24\n",
            "'Car'\t'cereal'\t0.09\n",
            "'Car'\t'communism'\t0.05\n"
          ]
        }
      ]
    },
    {
      "cell_type": "code",
      "metadata": {
        "colab": {
          "base_uri": "https://localhost:8080/"
        },
        "id": "uDoaikq0V-J5",
        "outputId": "e33ca3c2-b9d6-487d-a8d6-964f49ea989b"
      },
      "source": [
        "# Las mayusculas infieren\n",
        "pairs = [\n",
        "         ('car', 'minivan'),\n",
        "         ('car', 'bicycle'),\n",
        "         ('car', 'airplane'),\n",
        "         ('car', 'cereal'),\n",
        "         ('car', 'communism'),\n",
        "]\n",
        "\n",
        "for w1, w2 in pairs:\n",
        "  print('%r\\t%r\\t%.2f' % (w1, w2, wv.similarity(w1,w2)))"
      ],
      "execution_count": 20,
      "outputs": [
        {
          "output_type": "stream",
          "name": "stdout",
          "text": [
            "'car'\t'minivan'\t0.69\n",
            "'car'\t'bicycle'\t0.54\n",
            "'car'\t'airplane'\t0.42\n",
            "'car'\t'cereal'\t0.14\n",
            "'car'\t'communism'\t0.06\n"
          ]
        }
      ]
    },
    {
      "cell_type": "code",
      "metadata": {
        "colab": {
          "base_uri": "https://localhost:8080/"
        },
        "id": "kmlQJCK6WOP8",
        "outputId": "dcca6927-3c57-4890-c41a-fdb773ee9a9a"
      },
      "source": [
        "pairs = [\n",
        "         ('dog', 'wolf'),\n",
        "         ('dog', 'cat'),\n",
        "         ('dog', 'lion'),\n",
        "         ('dog', 'dolphin'),\n",
        "         ('dog', 'people'),\n",
        "]\n",
        "\n",
        "for w1, w2 in pairs:\n",
        "  print('%r\\t%r\\t%.2f' % (w1, w2, wv.similarity(w1,w2)))"
      ],
      "execution_count": 22,
      "outputs": [
        {
          "output_type": "stream",
          "name": "stdout",
          "text": [
            "'dog'\t'wolf'\t0.45\n",
            "'dog'\t'cat'\t0.76\n",
            "'dog'\t'lion'\t0.39\n",
            "'dog'\t'dolphin'\t0.38\n",
            "'dog'\t'people'\t0.16\n"
          ]
        }
      ]
    },
    {
      "cell_type": "code",
      "metadata": {
        "colab": {
          "base_uri": "https://localhost:8080/"
        },
        "id": "EBEqx-Z_Wp8E",
        "outputId": "927074a7-7277-44bc-f707-554e22253345"
      },
      "source": [
        "# Cantidad de elementos similares\n",
        "print(wv.most_similar(positive=['car', 'minivan'], topn=5))"
      ],
      "execution_count": 23,
      "outputs": [
        {
          "output_type": "stream",
          "name": "stdout",
          "text": [
            "[('SUV', 0.8532192707061768), ('vehicle', 0.8175783753395081), ('pickup_truck', 0.7763688564300537), ('Jeep', 0.7567334175109863), ('Ford_Explorer', 0.7565720081329346)]\n"
          ]
        }
      ]
    },
    {
      "cell_type": "code",
      "metadata": {
        "colab": {
          "base_uri": "https://localhost:8080/"
        },
        "id": "HOv6UwJ5YdER",
        "outputId": "95599abc-38b0-4fa9-bdbc-77d85223b593"
      },
      "source": [
        "# Cantidad de elementos diferentes\n",
        "print(wv.most_similar(negative=['car', 'minivan'], topn=5))"
      ],
      "execution_count": 29,
      "outputs": [
        {
          "output_type": "stream",
          "name": "stdout",
          "text": [
            "[('Philippe_Giaro_P.Geol', 0.31101420521736145), ('K.Kahne_###-###', 0.3042159676551819), ('C.Bowyer_###-###', 0.278561532497406), ('M.Truex_Jr._###-###', 0.27755749225616455), ('By_SEAN_BARRON', 0.27275702357292175)]\n"
          ]
        }
      ]
    },
    {
      "cell_type": "code",
      "metadata": {
        "colab": {
          "base_uri": "https://localhost:8080/"
        },
        "id": "eapf3HHWXIxS",
        "outputId": "447262b1-b201-4630-a2e3-524402c5f2e3"
      },
      "source": [
        "# Elementos no pertenecientes a la secuecnia\n",
        "print(wv.doesnt_match(['fire', 'water', 'land', 'sea', 'air', 'car']))"
      ],
      "execution_count": 28,
      "outputs": [
        {
          "output_type": "stream",
          "name": "stdout",
          "text": [
            "car\n"
          ]
        }
      ]
    }
  ]
}