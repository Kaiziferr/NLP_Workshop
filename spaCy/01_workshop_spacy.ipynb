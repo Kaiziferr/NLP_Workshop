{
  "nbformat": 4,
  "nbformat_minor": 0,
  "metadata": {
    "colab": {
      "name": "01_workshop_spacy.ipynb",
      "provenance": [],
      "collapsed_sections": [],
      "include_colab_link": true
    },
    "kernelspec": {
      "name": "python3",
      "display_name": "Python 3"
    },
    "language_info": {
      "name": "python"
    }
  },
  "cells": [
    {
      "cell_type": "markdown",
      "metadata": {
        "id": "view-in-github",
        "colab_type": "text"
      },
      "source": [
        "<a href=\"https://colab.research.google.com/github/Kaiziferr/NLP_Workshop/blob/master/spaCy/01_workshop_spacy.ipynb\" target=\"_parent\"><img src=\"https://colab.research.google.com/assets/colab-badge.svg\" alt=\"Open In Colab\"/></a>"
      ]
    },
    {
      "cell_type": "code",
      "execution_count": 3,
      "metadata": {
        "id": "QUjFyMmDgK_C",
        "colab": {
          "base_uri": "https://localhost:8080/"
        },
        "outputId": "59be7f07-f626-4b17-c3de-f7430ba0ceb7"
      },
      "outputs": [
        {
          "output_type": "stream",
          "name": "stdout",
          "text": [
            "Requirement already satisfied: spacy in /usr/local/lib/python3.7/dist-packages (2.2.4)\n",
            "Requirement already satisfied: cymem<2.1.0,>=2.0.2 in /usr/local/lib/python3.7/dist-packages (from spacy) (2.0.6)\n",
            "Requirement already satisfied: setuptools in /usr/local/lib/python3.7/dist-packages (from spacy) (57.4.0)\n",
            "Requirement already satisfied: blis<0.5.0,>=0.4.0 in /usr/local/lib/python3.7/dist-packages (from spacy) (0.4.1)\n",
            "Requirement already satisfied: numpy>=1.15.0 in /usr/local/lib/python3.7/dist-packages (from spacy) (1.19.5)\n",
            "Requirement already satisfied: thinc==7.4.0 in /usr/local/lib/python3.7/dist-packages (from spacy) (7.4.0)\n",
            "Requirement already satisfied: catalogue<1.1.0,>=0.0.7 in /usr/local/lib/python3.7/dist-packages (from spacy) (1.0.0)\n",
            "Requirement already satisfied: tqdm<5.0.0,>=4.38.0 in /usr/local/lib/python3.7/dist-packages (from spacy) (4.62.3)\n",
            "Requirement already satisfied: plac<1.2.0,>=0.9.6 in /usr/local/lib/python3.7/dist-packages (from spacy) (1.1.3)\n",
            "Requirement already satisfied: wasabi<1.1.0,>=0.4.0 in /usr/local/lib/python3.7/dist-packages (from spacy) (0.8.2)\n",
            "Requirement already satisfied: srsly<1.1.0,>=1.0.2 in /usr/local/lib/python3.7/dist-packages (from spacy) (1.0.5)\n",
            "Requirement already satisfied: murmurhash<1.1.0,>=0.28.0 in /usr/local/lib/python3.7/dist-packages (from spacy) (1.0.6)\n",
            "Requirement already satisfied: preshed<3.1.0,>=3.0.2 in /usr/local/lib/python3.7/dist-packages (from spacy) (3.0.6)\n",
            "Requirement already satisfied: requests<3.0.0,>=2.13.0 in /usr/local/lib/python3.7/dist-packages (from spacy) (2.23.0)\n",
            "Requirement already satisfied: importlib-metadata>=0.20 in /usr/local/lib/python3.7/dist-packages (from catalogue<1.1.0,>=0.0.7->spacy) (4.8.2)\n",
            "Requirement already satisfied: zipp>=0.5 in /usr/local/lib/python3.7/dist-packages (from importlib-metadata>=0.20->catalogue<1.1.0,>=0.0.7->spacy) (3.6.0)\n",
            "Requirement already satisfied: typing-extensions>=3.6.4 in /usr/local/lib/python3.7/dist-packages (from importlib-metadata>=0.20->catalogue<1.1.0,>=0.0.7->spacy) (3.10.0.2)\n",
            "Requirement already satisfied: urllib3!=1.25.0,!=1.25.1,<1.26,>=1.21.1 in /usr/local/lib/python3.7/dist-packages (from requests<3.0.0,>=2.13.0->spacy) (1.24.3)\n",
            "Requirement already satisfied: certifi>=2017.4.17 in /usr/local/lib/python3.7/dist-packages (from requests<3.0.0,>=2.13.0->spacy) (2021.10.8)\n",
            "Requirement already satisfied: chardet<4,>=3.0.2 in /usr/local/lib/python3.7/dist-packages (from requests<3.0.0,>=2.13.0->spacy) (3.0.4)\n",
            "Requirement already satisfied: idna<3,>=2.5 in /usr/local/lib/python3.7/dist-packages (from requests<3.0.0,>=2.13.0->spacy) (2.10)\n",
            "Collecting es_core_news_md==2.2.5\n",
            "  Downloading https://github.com/explosion/spacy-models/releases/download/es_core_news_md-2.2.5/es_core_news_md-2.2.5.tar.gz (78.4 MB)\n",
            "\u001b[K     |████████████████████████████████| 78.4 MB 1.2 MB/s \n",
            "\u001b[?25hRequirement already satisfied: spacy>=2.2.2 in /usr/local/lib/python3.7/dist-packages (from es_core_news_md==2.2.5) (2.2.4)\n",
            "Requirement already satisfied: blis<0.5.0,>=0.4.0 in /usr/local/lib/python3.7/dist-packages (from spacy>=2.2.2->es_core_news_md==2.2.5) (0.4.1)\n",
            "Requirement already satisfied: wasabi<1.1.0,>=0.4.0 in /usr/local/lib/python3.7/dist-packages (from spacy>=2.2.2->es_core_news_md==2.2.5) (0.8.2)\n",
            "Requirement already satisfied: cymem<2.1.0,>=2.0.2 in /usr/local/lib/python3.7/dist-packages (from spacy>=2.2.2->es_core_news_md==2.2.5) (2.0.6)\n",
            "Requirement already satisfied: thinc==7.4.0 in /usr/local/lib/python3.7/dist-packages (from spacy>=2.2.2->es_core_news_md==2.2.5) (7.4.0)\n",
            "Requirement already satisfied: tqdm<5.0.0,>=4.38.0 in /usr/local/lib/python3.7/dist-packages (from spacy>=2.2.2->es_core_news_md==2.2.5) (4.62.3)\n",
            "Requirement already satisfied: requests<3.0.0,>=2.13.0 in /usr/local/lib/python3.7/dist-packages (from spacy>=2.2.2->es_core_news_md==2.2.5) (2.23.0)\n",
            "Requirement already satisfied: preshed<3.1.0,>=3.0.2 in /usr/local/lib/python3.7/dist-packages (from spacy>=2.2.2->es_core_news_md==2.2.5) (3.0.6)\n",
            "Requirement already satisfied: numpy>=1.15.0 in /usr/local/lib/python3.7/dist-packages (from spacy>=2.2.2->es_core_news_md==2.2.5) (1.19.5)\n",
            "Requirement already satisfied: setuptools in /usr/local/lib/python3.7/dist-packages (from spacy>=2.2.2->es_core_news_md==2.2.5) (57.4.0)\n",
            "Requirement already satisfied: plac<1.2.0,>=0.9.6 in /usr/local/lib/python3.7/dist-packages (from spacy>=2.2.2->es_core_news_md==2.2.5) (1.1.3)\n",
            "Requirement already satisfied: srsly<1.1.0,>=1.0.2 in /usr/local/lib/python3.7/dist-packages (from spacy>=2.2.2->es_core_news_md==2.2.5) (1.0.5)\n",
            "Requirement already satisfied: catalogue<1.1.0,>=0.0.7 in /usr/local/lib/python3.7/dist-packages (from spacy>=2.2.2->es_core_news_md==2.2.5) (1.0.0)\n",
            "Requirement already satisfied: murmurhash<1.1.0,>=0.28.0 in /usr/local/lib/python3.7/dist-packages (from spacy>=2.2.2->es_core_news_md==2.2.5) (1.0.6)\n",
            "Requirement already satisfied: importlib-metadata>=0.20 in /usr/local/lib/python3.7/dist-packages (from catalogue<1.1.0,>=0.0.7->spacy>=2.2.2->es_core_news_md==2.2.5) (4.8.2)\n",
            "Requirement already satisfied: zipp>=0.5 in /usr/local/lib/python3.7/dist-packages (from importlib-metadata>=0.20->catalogue<1.1.0,>=0.0.7->spacy>=2.2.2->es_core_news_md==2.2.5) (3.6.0)\n",
            "Requirement already satisfied: typing-extensions>=3.6.4 in /usr/local/lib/python3.7/dist-packages (from importlib-metadata>=0.20->catalogue<1.1.0,>=0.0.7->spacy>=2.2.2->es_core_news_md==2.2.5) (3.10.0.2)\n",
            "Requirement already satisfied: urllib3!=1.25.0,!=1.25.1,<1.26,>=1.21.1 in /usr/local/lib/python3.7/dist-packages (from requests<3.0.0,>=2.13.0->spacy>=2.2.2->es_core_news_md==2.2.5) (1.24.3)\n",
            "Requirement already satisfied: chardet<4,>=3.0.2 in /usr/local/lib/python3.7/dist-packages (from requests<3.0.0,>=2.13.0->spacy>=2.2.2->es_core_news_md==2.2.5) (3.0.4)\n",
            "Requirement already satisfied: idna<3,>=2.5 in /usr/local/lib/python3.7/dist-packages (from requests<3.0.0,>=2.13.0->spacy>=2.2.2->es_core_news_md==2.2.5) (2.10)\n",
            "Requirement already satisfied: certifi>=2017.4.17 in /usr/local/lib/python3.7/dist-packages (from requests<3.0.0,>=2.13.0->spacy>=2.2.2->es_core_news_md==2.2.5) (2021.10.8)\n",
            "\u001b[38;5;2m✔ Download and installation successful\u001b[0m\n",
            "You can now load the model via spacy.load('es_core_news_md')\n"
          ]
        }
      ],
      "source": [
        "!pip install spacy\n",
        "!python -m spacy download es_core_news_md"
      ]
    },
    {
      "cell_type": "code",
      "source": [
        "import es_core_news_md\n",
        "model = es_core_news_md.load()"
      ],
      "metadata": {
        "id": "g1aNrCg0u-AN"
      },
      "execution_count": 6,
      "outputs": []
    },
    {
      "cell_type": "markdown",
      "source": [
        "# **Tokenizer**\n",
        "---\n",
        "\n"
      ],
      "metadata": {
        "id": "-H71eJGhujBX"
      }
    },
    {
      "cell_type": "code",
      "source": [
        "sentence = \"El procesamiento de lenguaje natural.\"\n",
        "doc = model(sentence)\n",
        "for i in doc:\n",
        "  print(i)"
      ],
      "metadata": {
        "id": "VAJ5feK-ulxk",
        "outputId": "6dfcefb5-c876-469a-bea9-8dfd217243e9",
        "colab": {
          "base_uri": "https://localhost:8080/"
        }
      },
      "execution_count": 9,
      "outputs": [
        {
          "output_type": "stream",
          "name": "stdout",
          "text": [
            "El\n",
            "procesamiento\n",
            "de\n",
            "lenguaje\n",
            "natural\n",
            ".\n"
          ]
        }
      ]
    },
    {
      "cell_type": "markdown",
      "source": [
        "# **Sentence Segmentation**\n",
        "---\n",
        "\n"
      ],
      "metadata": {
        "id": "4zZUI_RFxgls"
      }
    },
    {
      "cell_type": "code",
      "source": [
        "sentence = \"La casa es azul. La casa es grande. La casa tiene muchas ventanas.\"\n",
        "doc = model(sentence)\n",
        "for sent in doc.sents:\n",
        "  print(sent.text)"
      ],
      "metadata": {
        "id": "g-dsi-lOuief",
        "outputId": "a2807cfb-9a93-4513-84b2-ab99330e6735",
        "colab": {
          "base_uri": "https://localhost:8080/"
        }
      },
      "execution_count": 14,
      "outputs": [
        {
          "output_type": "stream",
          "name": "stdout",
          "text": [
            "La casa es azul.\n",
            "La casa es grande.\n",
            "La casa tiene muchas ventanas.\n"
          ]
        }
      ]
    },
    {
      "cell_type": "markdown",
      "source": [
        "# **Lematización**\n",
        "---\n",
        "\n"
      ],
      "metadata": {
        "id": "0W6Sm8KE426h"
      }
    },
    {
      "cell_type": "code",
      "source": [
        "doc = model(\"La colección es buena, pero me gustaria que se vendiera por internet\")\n",
        "for word in doc:\n",
        "  print(word.lemma_.lower())"
      ],
      "metadata": {
        "id": "Q2cw1_1S4_VL",
        "outputId": "731001b6-ee0b-40a8-ce37-a27dcedf5e64",
        "colab": {
          "base_uri": "https://localhost:8080/"
        }
      },
      "execution_count": 17,
      "outputs": [
        {
          "output_type": "stream",
          "name": "stdout",
          "text": [
            "la\n",
            "colección\n",
            "ser\n",
            "bueno\n",
            ",\n",
            "pero\n",
            "me\n",
            "gustaria\n",
            "que\n",
            "se\n",
            "vender\n",
            "por\n",
            "internet\n"
          ]
        }
      ]
    },
    {
      "cell_type": "markdown",
      "source": [
        "# **Nueva sección**"
      ],
      "metadata": {
        "id": "dMZNKT9X4zdg"
      }
    },
    {
      "cell_type": "code",
      "source": [
        "noticia_uno = \"\"\"La compañía Rocket Lab señala que pese a estar frente a un ecosistema móvil dinámico y cambiante, las apps de entretenimiento continúan entre las favoritas de los usuarios. Estas incrementaron su número de usuarios leales con altas tasas de interacción y grandes ganancias. Muestra de ello, es que a nivel global se espera que sus usuarios gasten cerca de 5.830 millones de euros en este año y un gasto mundial de 14.790 millones de euros para 2025, según datos de App Annie.\n",
        "\n",
        "En España, el boom de las apps de entretenimiento, entre las que destacan las plataformas de streaming como Netflix, Amazon Prime Video, Mitele, RTVE Play e incluso Tiktok, han acelerado el crecimiento de este segmento de aplicaciones. Tan sólo en el mes de julio de 2021 y según datos de Statista, las descargas de las 10 principales aplicaciones de entretenimiento en la Apple App Store se acercaron a las 300.000, con TikTok en primer lugar, con 79.320 descargas, seguido de Netflix con 46.900 y Mitele (TV a la carta) con 35.030 descargas.\n",
        "\n",
        "Las aplicaciones de entretenimiento se colocan entre las verticales más beneficiadas en los últimos dos años debido a que lograron crear mejores experiencias inmersivas, intuitivas y atractivas en poco tiempo, lo que provocó una verdadera transformación en el consumo de medios, live streaming, acceso a vídeos, música y programas de televisión.\n",
        "\n",
        "Por tal motivo, Rocket lab comparte algunas de las estrategias que catapultaron a estas aplicaciones y que pueden ayudar a posicionar nuevas apps entre las favoritas de los usuarios.\n",
        "\n",
        "Los app marketers deben ver a esta vertical como un método extremadamente eficaz para generar contenido de valor para las marcas, ya que es posible adaptar la publicidad a una determinada audiencia con mayor facilidad además de garantizar anuncios poco intrusivos en el momento y lugar ideal.\n",
        "\n",
        "Seguimiento y adaptación a nuevas tendencias\n",
        "Las aplicaciones de entretenimiento han logrado con éxito incorporar un segmento de tendencias dentro de sus mismas aplicaciones, lo cual les permite no sólo a los usuarios sino a las marcas y marketers poder detectar diariamente o semanalmente cuáles son los contenidos que más visitas han generado.\n",
        "\n",
        "Por ejemplo: en una app como TikTok o Twich es posible conocer qué hashtag está teniendo mayor fuerza, incluso qué música está teniendo mayor relevancia para los usuarios. De esta manera una marca puede sumarse a esta tendencia con una publicidad cero intrusiva donde se utilice el hashtag más utilizado y la música (en tendencia) para su beneficio. Esto significa no crear contenido desde cero, sino recurrir a la creatividad de la plataforma para posicionar una marca o un anuncio que será visto y que no implica grandes costes para los marketers ni para los negocios.\n",
        "\n",
        "Contenidos en la nube\n",
        "Cualquier persona que utilice un smartphone se enfrenta a la tarea de tener espacio disponible para poder acceder a todas las funciones del teléfono, además de encontrar un mundo de entretenimiento a un clic de distancia. Algunas de las aplicaciones de entretenimiento permiten a los usuarios acceder a una diversidad de contenidos sin necesidad de descargarlos. Además, es posible que todos los datos del usuario, contenidos y comunicaciones queden almacenados en la nube, lo que facilita el uso y funcionamiento del teléfono móvil. Esto es, sin duda, una de las estrategias que a más usuarios cautivó.\n",
        "\n",
        "Uso de Inteligencia Artificial\n",
        "Gracias a la inteligencia artificial (IA), los datos se procesan rápidamente y en tiempo real. Muchas apps de entretenimiento utilizan la IA para sugerir contenidos que se ajusten al comportamiento y preferencias de los usuarios, lo que contribuye a mejorar la experiencia in-app y a encontrar usuarios de calidad.\n",
        "\n",
        "El desarrollo de campañas dentro de las aplicaciones de entretenimiento se han convertido en una gran fuente de información única, pues les permite a los app marketers y desarrolladores de apps mayor rapidez para procesar toda la información obtenida y analizar los datos con información real sobre las interacciones, el número de descargas, el comportamiento de sus funciones, conocer los contenidos más relevantes e incluso localizar problemas, en caso de que los haya.\n",
        "\n",
        "Comunicación continua con el usuario\n",
        "La comunicación es la base de cualquier relación, por eso para lograr mayor visibilidad y generar una estrecha conexión con los usuarios, es indispensable perfeccionar los mecanismos de comunicación con los usuarios, con el fin de que utilicen la app cotidianamente y además estén dispuestos a pagar a cambio de ofrecerles inmersión, simplicidad y comunicación fluida para conocer su experiencia e incluso mostrarles publicidad que no interrumpa su interacción con el contenido.\n",
        "\n",
        "Twitch es un ejemplo del éxito de estas apps, pues pasó de 9.000 millones de horas diarias en la plataforma a 17.000 millones de horas de contenido en 2020 y hoy tiene la capacidad de reunir a 2,5 millones de personas en una sola transmisión y recibe en promedio a más de 30 millones de visitantes diariamente, según cifras de la compañía.\n",
        "\n",
        "Para lograr este crecimiento titánico, se analizó el comportamiento de sus usuarios y les permitió acercarse a creadores de contenido que estuvieran dispuestos a conectarse directamente con su audiencia. Ésto, significó también abrir mejores espacios de comunicación entre los mismos usuarios, los creadores de contenido e incluso con la propia app, además de brindar una mejor experiencia intuitiva sin ralentizar su interacción con el contenido y así poder acceder a vídeos, música, espectáculos, videojuegos, noticias y transmisiones en vivo.\n",
        "\n",
        "\"Las aplicaciones móviles se están convirtiendo no sólo en el nuevo centro digital que genera grandes ganancias, sino también en el puente entre los consumidores y diversos negocios online y físicos. Las campañas in-app no sólo transformarán negocios o marcas sino que traerán consigo grandes beneficios para los marketers a nivel trasnacional\" señaló Juan Echavarría, CEO y Cofundador de Rocket Lab.\"\"\""
      ],
      "metadata": {
        "id": "TMk2l-kTlvvG"
      },
      "execution_count": null,
      "outputs": []
    },
    {
      "cell_type": "code",
      "source": [
        "noticias_dos = \"\"\"\n",
        "El estudio de Compassbranding señaló que el el portafolio de marcas de Colombina con valor cercano a los US$100 millones\n",
        "\n",
        "Daniela Morales Soler\n",
        "Compassbranding publicó su estudio anual de marcas colombianas más valiosas del año. En esta las líderes fueron las cervezas Poker y Águila, cuya valoración fue superior a US$500 millones.\n",
        "\n",
        "En el rango entre US$100 millones y US$300 millones aparecen en tercer lugar Pony Malta, seguida por Club Colombia, Águila Light, Argos y Malta Leona. Completan el top 10, Alpina, Águila Zero y Costeña con una valoración entre US$50 millones y US$100 millones.\n",
        "\n",
        "De esta forma, las marcas de cervezas son las líderes del top. Gracias a esto, en el puesto 24 aparece por primera vez en el ranking.\n",
        "\n",
        "Por el contrario, Argos tiene en la lista un producto poco particular como el cemento. Similar al caso de Tecnoglass, la empresa de vidrios, que también se mete al listado en el puesto 90.\n",
        "\n",
        "Compassbranding destacó una mención especial para Alpina, \"que ha mantenido su supremacía en el sector de los lácteos combinando una estrategia de marca monolítica y de respaldo a submarcas\". Así mismo, señaló que el el portafolio de marcas de Colombina con valor cercano a los US$100 millones.\n",
        "\"\"\""
      ],
      "metadata": {
        "id": "h28K3E9sqGAj"
      },
      "execution_count": null,
      "outputs": []
    },
    {
      "cell_type": "markdown",
      "source": [
        "# **Named Entity Recognition 101**\n",
        "\n",
        "---\n",
        "\n"
      ],
      "metadata": {
        "id": "kVRI8tO_GDAO"
      }
    },
    {
      "cell_type": "code",
      "source": [
        "def entity_recognition(noticia):\n",
        "  model = es_core_news_md.load()\n",
        "  doc = model(noticia)\n",
        "  for ents in doc.ents:\n",
        "    print(ents.text, ents.start_char, ents.end_char, ents.label_)"
      ],
      "metadata": {
        "id": "kFVYFvPVmDqu"
      },
      "execution_count": null,
      "outputs": []
    },
    {
      "cell_type": "code",
      "source": [
        "entity_recognition(noticias_dos)"
      ],
      "metadata": {
        "colab": {
          "base_uri": "https://localhost:8080/"
        },
        "id": "aUAt5zvUrAGS",
        "outputId": "b2c14374-277f-4ae8-d4a4-99fe20f3e766"
      },
      "execution_count": null,
      "outputs": [
        {
          "output_type": "stream",
          "name": "stdout",
          "text": [
            "Compassbranding 15 30 PER\n",
            "Colombina 72 81 LOC\n",
            "US$ 106 109 LOC\n",
            "Daniela Morales Soler 123 144 PER\n",
            "Compassbranding 145 160 PER\n",
            "Poker 270 275 ORG\n",
            "Águila 278 284 MISC\n",
            "US$ 317 320 LOC\n",
            "US$ 353 356 LOC\n",
            "US$ 371 374 LOC\n",
            "Pony Malta 412 422 ORG\n",
            "Club Colombia 436 449 ORG\n",
            "Águila Light 451 463 ORG\n",
            "Argos 465 470 LOC\n",
            "Malta Leona 473 484 LOC\n",
            "Completan 486 495 LOC\n",
            "Alpina 507 513 MISC\n",
            "Águila Zero 515 526 MISC\n",
            "Costeña 529 536 LOC\n",
            "US$ 562 565 LOC\n",
            "US$ 579 582 LOC\n",
            "Gracias a esto 660 674 MISC\n",
            "Argos 750 755 LOC\n",
            "Similar al caso de Tecnoglass 819 848 MISC\n",
            "Alpina 972 978 MISC\n",
            "Colombina 1166 1175 LOC\n",
            "US$ 1200 1203 LOC\n"
          ]
        }
      ]
    }
  ]
}