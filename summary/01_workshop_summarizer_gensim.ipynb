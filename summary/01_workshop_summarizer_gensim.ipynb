{
  "nbformat": 4,
  "nbformat_minor": 0,
  "metadata": {
    "colab": {
      "name": "01_workshop_summarizer_gensim.ipynb",
      "provenance": [],
      "collapsed_sections": [],
      "authorship_tag": "ABX9TyMgPalV2Waq0apSbNuQJH2n",
      "include_colab_link": true
    },
    "kernelspec": {
      "name": "python3",
      "display_name": "Python 3"
    },
    "language_info": {
      "name": "python"
    }
  },
  "cells": [
    {
      "cell_type": "markdown",
      "metadata": {
        "id": "view-in-github",
        "colab_type": "text"
      },
      "source": [
        "<a href=\"https://colab.research.google.com/github/Kaiziferr/NLP_Workshop/blob/master/summary/01_workshop_summarizer_gensim.ipynb\" target=\"_parent\"><img src=\"https://colab.research.google.com/assets/colab-badge.svg\" alt=\"Open In Colab\"/></a>"
      ]
    },
    {
      "cell_type": "code",
      "execution_count": 1,
      "metadata": {
        "id": "qDVrzyYVH5Fp"
      },
      "outputs": [],
      "source": [
        "from gensim.summarization.summarizer import summarize"
      ]
    },
    {
      "cell_type": "code",
      "source": [
        "text = \"\"\"\n",
        "Tik Tok quiere subirse al negocio de las transmisiones en vivo\n",
        "\n",
        "Recientemente la plataforma ha estado probando una nueva función, a la que ha llamado Tik Tok Live Studio y que promete ser una seria competencia de Twitch.\n",
        "\n",
        "Tik Tok es una de las redes sociales de más alto crecimiento en los últimos años. Según la firma Statista, en 2021 esta ya supera los 1.190 millones de usuarios y proyecta que para 2025 rondará los 1.300 millones.\n",
        "\n",
        "No obstante, su impacto podría ser aun más grande, pues en los últimos días Tik Tok ha estado probando una nueva herramienta para hacer trasmisiones en vivo, a la que llamado Tik Tok Live Studio.\n",
        "\n",
        "Se trata de un software que se instala en el computador y que le permite a los creadores de contenido hacer transmisiones en vivo al estilo de Twitch, el mayor referente en esta materia. Hay que recordar que otras plataformas ya suman una experiencia de años en este campo, como es el caso de Facebook, Instagram y Youtube.\n",
        "\n",
        "Aunque, de momento, no se pueden crear transmisiones desde un teléfono o tablet, sí se pueden disfrutar mediante los mismos. Los interesados pueden buscar en feed principal de la aplicación, en la parte superior izquierda, un ícono que dice “Live”, y comenzar a navegar en este tipo de contenidos.\n",
        "\n",
        "Parte de los detalles que tiene la nueva herramienta que prueba Tik Tok, es el de la posibilidad de interactuar con la audiencia mediante la función de chat. Esta plataforma aseguró al portal especializado TechCrunch que, de momento, la nueva función solo está disponible para un puñado de mercados occidentales, el cual cuenta con unos pocos miles de usuarios.\n",
        "\n",
        "De hecho, no es la primera vez que una red o plataforma social lanza un nuevo servicio con pocas personas. Twitter e Instagram también lo han hecho en diversas ocasiones. Y lo hacen porque antes de implementarla de lleno buscan una realimentación de estos pocos, sobre cómo funciona la nueva herramienta y qué cosas podrían mejorar. Cuando sale de su fase beta, ya con todos los ajustes, ahí sí se hace el lanzamiento masivo.\n",
        "\n",
        "“Pero en su forma naciente, TikTok Live Studio carece de las funciones que los streamers experimentados pueden encontrar en software de transmisión como OBS o Streamlabs, lo cual tiene sentido, ya que el producto aún está en prueba. Por ejemplo, aunque puede conectar una consola de videojuegos a TikTok Live Studio, no puede usar las ventanas del navegador como fuente y no puede configurar alertas in-stream para sugerencias o nuevos seguidores”, detalla TechCrunch.\n",
        "\"\"\""
      ],
      "metadata": {
        "id": "zVs-5O-CLI7y"
      },
      "execution_count": 2,
      "outputs": []
    },
    {
      "cell_type": "code",
      "source": [
        "print(text)"
      ],
      "metadata": {
        "colab": {
          "base_uri": "https://localhost:8080/"
        },
        "id": "3nI-Cb_RLzRH",
        "outputId": "2768b518-4200-4e09-e2ad-7ffe8b1f01a7"
      },
      "execution_count": 3,
      "outputs": [
        {
          "output_type": "stream",
          "name": "stdout",
          "text": [
            "\n",
            "Tik Tok quiere subirse al negocio de las transmisiones en vivo\n",
            "\n",
            "Recientemente la plataforma ha estado probando una nueva función, a la que ha llamado Tik Tok Live Studio y que promete ser una seria competencia de Twitch.\n",
            "\n",
            "Tik Tok es una de las redes sociales de más alto crecimiento en los últimos años. Según la firma Statista, en 2021 esta ya supera los 1.190 millones de usuarios y proyecta que para 2025 rondará los 1.300 millones.\n",
            "\n",
            "No obstante, su impacto podría ser aun más grande, pues en los últimos días Tik Tok ha estado probando una nueva herramienta para hacer trasmisiones en vivo, a la que llamado Tik Tok Live Studio.\n",
            "\n",
            "Se trata de un software que se instala en el computador y que le permite a los creadores de contenido hacer transmisiones en vivo al estilo de Twitch, el mayor referente en esta materia. Hay que recordar que otras plataformas ya suman una experiencia de años en este campo, como es el caso de Facebook, Instagram y Youtube.\n",
            "\n",
            "Aunque, de momento, no se pueden crear transmisiones desde un teléfono o tablet, sí se pueden disfrutar mediante los mismos. Los interesados pueden buscar en feed principal de la aplicación, en la parte superior izquierda, un ícono que dice “Live”, y comenzar a navegar en este tipo de contenidos.\n",
            "\n",
            "Parte de los detalles que tiene la nueva herramienta que prueba Tik Tok, es el de la posibilidad de interactuar con la audiencia mediante la función de chat. Esta plataforma aseguró al portal especializado TechCrunch que, de momento, la nueva función solo está disponible para un puñado de mercados occidentales, el cual cuenta con unos pocos miles de usuarios.\n",
            "\n",
            "De hecho, no es la primera vez que una red o plataforma social lanza un nuevo servicio con pocas personas. Twitter e Instagram también lo han hecho en diversas ocasiones. Y lo hacen porque antes de implementarla de lleno buscan una realimentación de estos pocos, sobre cómo funciona la nueva herramienta y qué cosas podrían mejorar. Cuando sale de su fase beta, ya con todos los ajustes, ahí sí se hace el lanzamiento masivo.\n",
            "\n",
            "“Pero en su forma naciente, TikTok Live Studio carece de las funciones que los streamers experimentados pueden encontrar en software de transmisión como OBS o Streamlabs, lo cual tiene sentido, ya que el producto aún está en prueba. Por ejemplo, aunque puede conectar una consola de videojuegos a TikTok Live Studio, no puede usar las ventanas del navegador como fuente y no puede configurar alertas in-stream para sugerencias o nuevos seguidores”, detalla TechCrunch.\n",
            "\n"
          ]
        }
      ]
    },
    {
      "cell_type": "markdown",
      "source": [
        "# **Summary with Gensim**"
      ],
      "metadata": {
        "id": "BMQq4silPAYu"
      }
    },
    {
      "cell_type": "code",
      "source": [
        "def sumarize(text, ratio = None, word_count = None, split = False):\n",
        "  return summarize(text, ratio, word_count, split)"
      ],
      "metadata": {
        "id": "wzy2_j5eMrNQ"
      },
      "execution_count": 4,
      "outputs": []
    },
    {
      "cell_type": "code",
      "source": [
        "summary =  summarize(text, 0.1)\n",
        "print(summary)"
      ],
      "metadata": {
        "colab": {
          "base_uri": "https://localhost:8080/"
        },
        "id": "cylnKwhSM18n",
        "outputId": "7b2cd51f-d515-4a60-8167-9b2946e9a4fb"
      },
      "execution_count": 7,
      "outputs": [
        {
          "output_type": "stream",
          "name": "stdout",
          "text": [
            "No obstante, su impacto podría ser aun más grande, pues en los últimos días Tik Tok ha estado probando una nueva herramienta para hacer trasmisiones en vivo, a la que llamado Tik Tok Live Studio.\n"
          ]
        }
      ]
    },
    {
      "cell_type": "code",
      "source": [
        "summary =  summarize(text, word_count=80)\n",
        "print(summary)"
      ],
      "metadata": {
        "colab": {
          "base_uri": "https://localhost:8080/"
        },
        "id": "xk7hW2xHOtK_",
        "outputId": "8d13468d-8b00-41be-d00f-d1141a0c396f"
      },
      "execution_count": 9,
      "outputs": [
        {
          "output_type": "stream",
          "name": "stdout",
          "text": [
            "Recientemente la plataforma ha estado probando una nueva función, a la que ha llamado Tik Tok Live Studio y que promete ser una seria competencia de Twitch.\n",
            "No obstante, su impacto podría ser aun más grande, pues en los últimos días Tik Tok ha estado probando una nueva herramienta para hacer trasmisiones en vivo, a la que llamado Tik Tok Live Studio.\n",
            "Esta plataforma aseguró al portal especializado TechCrunch que, de momento, la nueva función solo está disponible para un puñado de mercados occidentales, el cual cuenta con unos pocos miles de usuarios.\n"
          ]
        }
      ]
    },
    {
      "cell_type": "code",
      "source": [
        "summary =  summarize(text, split=True)\n",
        "for i in summary:\n",
        "  print(i)"
      ],
      "metadata": {
        "colab": {
          "base_uri": "https://localhost:8080/"
        },
        "id": "_Wyi9UJDPaGX",
        "outputId": "d1262ac9-2427-404f-b5cb-16f27d4745d4"
      },
      "execution_count": 10,
      "outputs": [
        {
          "output_type": "stream",
          "name": "stdout",
          "text": [
            "Recientemente la plataforma ha estado probando una nueva función, a la que ha llamado Tik Tok Live Studio y que promete ser una seria competencia de Twitch.\n",
            "No obstante, su impacto podría ser aun más grande, pues en los últimos días Tik Tok ha estado probando una nueva herramienta para hacer trasmisiones en vivo, a la que llamado Tik Tok Live Studio.\n",
            "Esta plataforma aseguró al portal especializado TechCrunch que, de momento, la nueva función solo está disponible para un puñado de mercados occidentales, el cual cuenta con unos pocos miles de usuarios.\n"
          ]
        }
      ]
    },
    {
      "cell_type": "code",
      "source": [
        "text = '''\n",
        "Wikipedia es una enciclopedia libre,nota 2​ políglota y editada de manera colaborativa. Es un proyecto de crear una enciclopedia libre en la red. Cada uno puede aportar sus conocimientos sobre cualquier tema para crear una base de datos con toda la sabiduría humana. Es administrada por la Fundación Wikimedia, una organización sin ánimo de lucro cuya financiación está basada en donaciones. Sus más de 56 millones de artículos en 321 idiomas han sido redactados en conjunto por voluntarios de todo el mundo,5​ lo que suma más de 2000 millones de ediciones, y permite que cualquier persona pueda sumarse al proyecto6​ para editarlos, a menos que la página se encuentre protegida contra vandalismos para evitar problemas o disputas.\n",
        "\n",
        "Fue creada el 15 de enero de 2001 por Jimmy Wales y Larry Sanger,7​ y es la mayor y más popular obra de consulta en Internet.8​9​10​ Desde su fundación, Wikipedia no solo ha ganado en popularidad —se encuentra entre los 15 sitios web más populares del mundo—,11​12​ sino que además su éxito ha propiciado la aparición de proyectos hermanos: Wikcionario, Wikilibros, Wikiversidad, Wikiquote, Wikinoticias, Wikisource, Wikiespecies y Wikiviajes.\n",
        "\n",
        "Existen tres características esenciales del proyecto Wikipedia que definen en conjunto su función en la web. El lema «La enciclopedia libre que todos pueden editar» explica los tres principios:13​\n",
        "\n",
        "Es una enciclopedia, entendida como soporte que permite la recopilación, el almacenamiento y la transmisión de la información de forma estructurada.\n",
        "Es un wiki, por lo que, con pequeñas excepciones, puede ser editada por cualquiera.\n",
        "Es de contenido abierto.\n",
        "Según su cofundador, Jimmy Wales, el proyecto constituye «un esfuerzo para crear y distribuir una enciclopedia libre, de la más alta calidad posible, a cada persona del planeta, en su idioma», para lograr «un mundo en el que cada persona del planeta tenga acceso libre a la suma de todo el saber de la humanidad».14​ Se desarrolla en el sitio Wikipedia.org haciendo uso de un software wiki —término originalmente usado para el WikiWikiWeb—.\n",
        "\n",
        "De las 321 ediciones, dieciocho superan el 1 000 000 de artículos: inglés, cebuano, sueco, alemán, francés, neerlandés, ruso, italiano, español, polaco, samareño, vietnamita, japonés, árabe egipcio, chino, árabe, portugués y ucraniano.nota 3​ Una buena parte de sus ediciones idiomáticas está disponible para ser utilizada offline, distribuida en DVD u otros soportes.15​ Muchas de sus ediciones han sido replicadas a través de Internet —mediante «espejos»— y han dado origen a enciclopedias derivadas —bifurcaciones— en otros sitios web.16​\n",
        "\n",
        "La enciclopedia ha recibido diversas críticas. Algunos la han acusado de parcialidad sistémica y de inconsistencias,17​18​19​ con críticas sobre la política de favorecer el consenso sobre las credenciales en su proceso editorial20​21​ Otras críticas han estado centradas en su susceptibilidad de ser vandalizada y en la aparición de información espuria o falta de verificación,22​ aunque estudios eruditos sugieren que el vandalismo en general es deshecho con prontitud.23​24​Wikipedia también ha sido criticada por sesgos de género. Se han realizado maratones de edición para alentar a las editoras y aumentar la cobertura de temas relacionados con la mujer.25​\n",
        "\n",
        "Wikipedia es uno de los 15 sitios web más populares según la clasificación de Alexa, en enero de 2021 y la revista The Economist la colocó como el \"decimotercer lugar más visitado en la web\".26​ Sin publicidad, está alojado por la Fundación Wikimedia, una organización sin fines de lucro estadounidense financiada principalmente a través de donaciones.27​\n",
        "\n",
        "Facebook anunció que para 2017 ayudaría a los lectores a detectar noticias falsas sugiriendo enlaces a artículos relacionados de Wikipedia. YouTube anunció un plan similar en 2018.28​\n",
        "\n",
        "Wales cita el ensayo \"El uso del conocimiento en la sociedad\", escrito por el economista y filósofo de la escuela austriaca y Premio Nobel de Economía Friedrich Hayek, que leyó cuando era estudiante,29​ como «central» para su pensamiento acerca de «cómo gestionar el proyecto Wikipedia»30​31​32​33​ Hayek argumenta que la información está descentralizada —cada individuo solo conoce una pequeña fracción de lo que se conoce colectivamente— y, como resultado, las decisiones se toman mejor por aquellos con conocimientos locales, en lugar de por una autoridad central.30​34​ Wales reconsideró el ensayo de Hayek en la década de 1990, mientras estaba leyendo sobre el movimiento de código abierto, que abogaba por la distribución gratuita de software libre. Fue particularmente conmovido por el ensayo \"La catedral y el bazar\" escrito por uno de los fundadores del movimiento, Eric S. Raymond y adaptado más adelante en un libro. Wales afirmó que ese ensayo «abrió [sus] ojos a las posibilidades de colaboración masiva».29​\n",
        "\n",
        "En marzo de 2000, Jimmy Wales creó Nupedia, un proyecto de enciclopedia libre basado en un ambicioso y exhaustivo proceso de revisión por pares,35​ diseñado para hacer sus artículos de una calidad comparable a la de las enciclopedias profesionales gracias a la participación de eruditos –principalmente doctorandos y académicos—, a los que se proponía colaborar de modo no remunerado. El proyecto tuvo el apoyo económico de la empresa Bomis, fundada por Wales y administrada por este junto con un compañero desde 1996,36​ y la colaboración de Richard Stallman, quien propuso el cambio a la licencia pública general de GNU, desde la antigua Nupedia Open Content License.37​ Larry Sanger, doctor en filosofía, que ya conocía anteriormente a Wales de mantener con él discusiones filosóficas por Internet, fue contratado por este y se convirtió en redactor jefe de Nupedia.36​\n",
        "\n",
        "Debido al lento avance del proyecto, en 2001 se creó un wiki —UseMod— vinculado a Nupedia cuya finalidad inicial era agilizar la creación de artículos de forma paralela, antes de que estos pasaran al sistema de revisión por expertos. Existe cierta polémica entre los fundadores de Nupedia sobre quién propuso originalmente la idea de usar un wiki a Jimbo Wales, si Larry Sanger o bien una tercera persona,38​ pero el caso es que el éxito de aquel «pequeño proyecto paralelo» —Wikipedia— acabó eclipsando a Nupedia, que dejó de funcionar en 2003.\n",
        "\n",
        "El proyecto Wikipedia se inició el 15 de enero de 2001. El artículo más antiguo que puede encontrarse en Wikipedia es UuU, creado el 16 de enero de 2001 en la versión inglesa; consistía en tres enlaces hacia sendos artículos sobre el Reino Unido, Estados Unidos y Uruguay.39​Larry Sanger pasó a colaborar con Wikipedia y trabajó activamente en la organización y directrices del proyecto; se marchó en 2002 por desacuerdos con Wales.36​ Ese año, Wikipedia abarcaba 26 idiomas, 46 en 2003 y 161 a finales de 2004. Wikipedia y Nupedia coexistieron hasta la extinción de la segunda en 2003.40​Sin embargo, la posibilidad de utilizar publicidad en Wikipedia provocó una reacción de parte de los contribuyentes de la Wikipedia en español, motivo que llevó a la creación de la Enciclopedia Libre Universal en Español en febrero de 2002.41​ Este episodio podría haber impulsado a su vez la determinación de no utilizar publicidad, la creación de la Fundación Wikimedia y el cambio al nuevo url.42​\n",
        "\n",
        "Se han iniciado otros varios proyectos de enciclopedia con formato wiki, en gran parte bajo una filosofía diferente de la apertura y el modelo editorial del «punto de vista neutral» desarrollado por Wikipedia. Por ejemplo, Wikinfo, uno de los portales web, no requiere un punto de vista neutral y permite la investigación original.43​ También hubo nuevos proyectos inspirados en Wikipedia —como Citizendium, Scholarpedia, Conservapedia, y Knol de Google44​— donde algunos de los aspectos que son fundamentales en Wikipedia se abordan de manera diferenciada, como las políticas de revisión por pares, la investigación original, y la publicidad comercial.\n",
        "\n",
        "El 20 de septiembre de 2004, Wikipedia alcanzó 1 millón de artículos en 100 idiomas.45​ En 2007 la versión en inglés superó los 2 millones de artículos, convirtiéndose en la enciclopedia con mayor número de artículos de la historia y superando en ese aspecto a la Yongle Dadian de 1407, que sostuvo el récord durante varios siglos.46​ Debido a su popularidad y sencillez, el Oxford English Dictionary ha considerado introducir el término wiki.47​\n",
        "\n",
        "En octubre de 2011, Wikimedia anunció el lanzamiento de Wikipedia Zero, una iniciativa para permitir el acceso gratuito móvil (datos) a la Wikipedia en países del tercer mundo a través de colaboraciones con operadores de telecomunicaciones móviles.48​49​\n",
        "'''"
      ],
      "metadata": {
        "id": "wYXxeqfOP75_"
      },
      "execution_count": 11,
      "outputs": []
    },
    {
      "cell_type": "code",
      "source": [
        "summary =  summarize(text, 0.1)\n",
        "print(summary)"
      ],
      "metadata": {
        "colab": {
          "base_uri": "https://localhost:8080/"
        },
        "id": "bFFEG8v0QXWN",
        "outputId": "c50dd234-4970-4b2f-8515-1d248dd6dc77"
      },
      "execution_count": 15,
      "outputs": [
        {
          "output_type": "stream",
          "name": "stdout",
          "text": [
            "Fue creada el 15 de enero de 2001 por Jimmy Wales y Larry Sanger,7​ y es la mayor y más popular obra de consulta en Internet.8​9​10​ Desde su fundación, Wikipedia no solo ha ganado en popularidad —se encuentra entre los 15 sitios web más populares del mundo—,11​12​ sino que además su éxito ha propiciado la aparición de proyectos hermanos: Wikcionario, Wikilibros, Wikiversidad, Wikiquote, Wikinoticias, Wikisource, Wikiespecies y Wikiviajes.\n",
            "Wikipedia es uno de los 15 sitios web más populares según la clasificación de Alexa, en enero de 2021 y la revista The Economist la colocó como el \"decimotercer lugar más visitado en la web\".26​ Sin publicidad, está alojado por la Fundación Wikimedia, una organización sin fines de lucro estadounidense financiada principalmente a través de donaciones.27​\n",
            "En marzo de 2000, Jimmy Wales creó Nupedia, un proyecto de enciclopedia libre basado en un ambicioso y exhaustivo proceso de revisión por pares,35​ diseñado para hacer sus artículos de una calidad comparable a la de las enciclopedias profesionales gracias a la participación de eruditos –principalmente doctorandos y académicos—, a los que se proponía colaborar de modo no remunerado.\n"
          ]
        }
      ]
    }
  ]
}