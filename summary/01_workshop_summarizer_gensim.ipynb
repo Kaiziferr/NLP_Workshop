{
  "nbformat": 4,
  "nbformat_minor": 0,
  "metadata": {
    "colab": {
      "name": "01_workshop_summarizer_gensim.ipynb",
      "provenance": [],
      "collapsed_sections": [],
      "authorship_tag": "ABX9TyMeOWjbPQtJ7Q8w4FSFqXtx",
      "include_colab_link": true
    },
    "kernelspec": {
      "name": "python3",
      "display_name": "Python 3"
    },
    "language_info": {
      "name": "python"
    }
  },
  "cells": [
    {
      "cell_type": "markdown",
      "metadata": {
        "id": "view-in-github",
        "colab_type": "text"
      },
      "source": [
        "<a href=\"https://colab.research.google.com/github/Kaiziferr/NLP_Workshop/blob/master/summary/01_workshop_summarizer_gensim.ipynb\" target=\"_parent\"><img src=\"https://colab.research.google.com/assets/colab-badge.svg\" alt=\"Open In Colab\"/></a>"
      ]
    },
    {
      "cell_type": "code",
      "source": [
        "from gensim.summarization.summarizer import summarize"
      ],
      "metadata": {
        "id": "oV6mXqGdcP-3"
      },
      "execution_count": 2,
      "outputs": []
    },
    {
      "cell_type": "code",
      "source": [
        "text = \"\"\"\n",
        "El encuentro este viernes entre Antony Blinken, secretario de Estado de Estados Unidos, y Serguéi Lavrov, su homólogo ruso, en medio de la crisis que desde diciembre se vive en la frontera rusoucraniana, terminó sin mayores avances, pero bajó la tensión. Ahora, la Casa Blanca no descarta un encuentro entre los presidentes de las dos potencias —Joe Biden y Vladimir Putin— para volver al equilibrio.\n",
        "\n",
        "Antes de la reunión del viernes se dieron múltiples amenazas, como la que recae sobre Ucrania en este momento, pues desde diciembre del año pasado hay cerca de cien mil soldados rusos en su frontera.\n",
        "\n",
        "Occidente ve clara la amenaza de invasión por parte de Putin, que refleja una nueva escalada de las tensiones en la región. No obstante, Blinken sostuvo, en declaraciones a medios, que Lavrov dijo que Rusia no tiene intención real de invadir Ucrania. El funcionario le pidió probar dichas palabras a través de una desescalada.\n",
        "\n",
        "Lavrov, como mensajero de Moscú, conversó con el funcionario gringo sobre las pretensiones de su Gobierno, que espera que la OTAN (Organización del Tratado del Atlántico Norte) cese su ampliación hacia el este. Apenas unas semanas atrás, la posibilidad del ingreso de Ucrania y Georgia a la alianza ocasionó gran molestia en Rusia, que lo ve como un paso más hacia la expasión militar occidental hacia su país.\n",
        "\n",
        "Sumado a eso, informó Lavrov, Rusia exige el cese de las actividades de cualquier índole militar en los países de su influencia, aquellos exmiembros de la Unión Soviética. Específicamente, se refiere a Estonia, Letonia, Lituania y Polonia.\n",
        "\n",
        "Estados Unidos y la OTAN no recibieron bien las propuestas, porque consideran que no es posible ni correcto coartar la libertad de un país de querer hacer parte de la organización, ni tampoco impedir la expansión de esta.\n",
        "\n",
        "A pesar de la tensión entre ambas potencias por cuenta de la ofensiva rusa sobre Ucrania, Moscú mostró voluntad para intentar resolver la crisis.\n",
        "\n",
        "Por ello, al término del encuentro, Jen Psaki, portavoz presidencial de Biden, informó que el fin de semana habrá una reunión para discutir los posibles pasos a seguir.\n",
        "\n",
        "“Si ese es un paso que es recomendado, y pensamos que puede ser efectivo en este momento de la discusión, desde luego, el presidente siempre está abierto a reuniones de líder a líder”, dijo Psaki, citado por EFE, abriendo la puerta a una nueva conversación Biden-Putin, que sería decisiva en este contexto.\n",
        "\n",
        "Para Mauricio Jaramillo Jassir, experto en Seguridad Internacional y profesor de la Universidad del Rosario, es ideal que se junten, pues “vale la pena volver al equilibrio, a la mesura en el uso de la fuerza”.\n",
        "\n",
        "Y es que los exmandatarios conversaron telefónicamente el pasado 31 de diciembre, cuando la tensión en la frontera con Ucrania ya estaba militarizada. Ahora, cuando el panorama es aún más tenso, un encuentro parece ideal.\n",
        "\n",
        "Biden conoce bien el contexto ucraniano y europeo por su experiencia en el Gobierno de Barack Obama, como explica el profesor Jaramillo. Además, tiene un discurso mucho más mesurado con respecto al de su antecesor, Donald Trump, por lo que posiblemente sabría acordar una necesaria desescalada con Putin en un buen pronóstico.\n",
        "\n",
        "El peor de los escenarios en el mediano plazo, por el contrario, sería un desmembramiento de Ucrania como sucedió con la antigua Yugoslavia, aunque Jaramillo no ve muy probable que suceda.\n",
        "\n",
        "\"\"\""
      ],
      "metadata": {
        "id": "zVs-5O-CLI7y"
      },
      "execution_count": 37,
      "outputs": []
    },
    {
      "cell_type": "markdown",
      "source": [
        "# **Summary with Gensim**"
      ],
      "metadata": {
        "id": "BMQq4silPAYu"
      }
    },
    {
      "cell_type": "code",
      "source": [
        "\"\"\"\n",
        "  - text:       Texto dado.\n",
        "  - ratio:      Número entre 0 y 1 que determina la proporción del número de frases del texto original a elegir para el resumen.  \n",
        "  - word_count: determina cuántas palabras contendrá la salida. Si se proporcionan ambos parámetros, se ignorará la proporción.  \n",
        "  - split     : si es verdadero, se devolverá una lista de oraciones. De lo contrario, se devolverán las cadenas unidas.\n",
        "\"\"\"\n",
        "def sumarize(text, ratio = None, word_count = None, split = False):\n",
        "  return summarize(text, ratio, word_count, split)"
      ],
      "metadata": {
        "id": "wzy2_j5eMrNQ"
      },
      "execution_count": 38,
      "outputs": []
    },
    {
      "cell_type": "code",
      "source": [
        "summary =  summarize(text, 0.25)\n",
        "print(summary)"
      ],
      "metadata": {
        "colab": {
          "base_uri": "https://localhost:8080/"
        },
        "id": "cylnKwhSM18n",
        "outputId": "89a9c3ce-844f-4490-a196-685dbe3b33eb"
      },
      "execution_count": 45,
      "outputs": [
        {
          "output_type": "stream",
          "name": "stdout",
          "text": [
            "El encuentro este viernes entre Antony Blinken, secretario de Estado de Estados Unidos, y Serguéi Lavrov, su homólogo ruso, en medio de la crisis que desde diciembre se vive en la frontera rusoucraniana, terminó sin mayores avances, pero bajó la tensión.\n",
            "Ahora, la Casa Blanca no descarta un encuentro entre los presidentes de las dos potencias —Joe Biden y Vladimir Putin— para volver al equilibrio.\n",
            "Antes de la reunión del viernes se dieron múltiples amenazas, como la que recae sobre Ucrania en este momento, pues desde diciembre del año pasado hay cerca de cien mil soldados rusos en su frontera.\n",
            "Lavrov, como mensajero de Moscú, conversó con el funcionario gringo sobre las pretensiones de su Gobierno, que espera que la OTAN (Organización del Tratado del Atlántico Norte) cese su ampliación hacia el este.\n",
            "Por ello, al término del encuentro, Jen Psaki, portavoz presidencial de Biden, informó que el fin de semana habrá una reunión para discutir los posibles pasos a seguir.\n"
          ]
        }
      ]
    },
    {
      "cell_type": "code",
      "source": [
        "summary =  summarize(text, word_count=200)\n",
        "print(summary)"
      ],
      "metadata": {
        "colab": {
          "base_uri": "https://localhost:8080/"
        },
        "id": "xk7hW2xHOtK_",
        "outputId": "890bef84-fed6-4b59-da46-7b506e522bc5"
      },
      "execution_count": 49,
      "outputs": [
        {
          "output_type": "stream",
          "name": "stdout",
          "text": [
            "El encuentro este viernes entre Antony Blinken, secretario de Estado de Estados Unidos, y Serguéi Lavrov, su homólogo ruso, en medio de la crisis que desde diciembre se vive en la frontera rusoucraniana, terminó sin mayores avances, pero bajó la tensión.\n",
            "Ahora, la Casa Blanca no descarta un encuentro entre los presidentes de las dos potencias —Joe Biden y Vladimir Putin— para volver al equilibrio.\n",
            "Antes de la reunión del viernes se dieron múltiples amenazas, como la que recae sobre Ucrania en este momento, pues desde diciembre del año pasado hay cerca de cien mil soldados rusos en su frontera.\n",
            "Lavrov, como mensajero de Moscú, conversó con el funcionario gringo sobre las pretensiones de su Gobierno, que espera que la OTAN (Organización del Tratado del Atlántico Norte) cese su ampliación hacia el este.\n",
            "Apenas unas semanas atrás, la posibilidad del ingreso de Ucrania y Georgia a la alianza ocasionó gran molestia en Rusia, que lo ve como un paso más hacia la expasión militar occidental hacia su país.\n",
            "Por ello, al término del encuentro, Jen Psaki, portavoz presidencial de Biden, informó que el fin de semana habrá una reunión para discutir los posibles pasos a seguir.\n"
          ]
        }
      ]
    },
    {
      "cell_type": "code",
      "source": [
        "summary =  summarize(text, split=True)\n",
        "for i in summary:\n",
        "  print(i)"
      ],
      "metadata": {
        "colab": {
          "base_uri": "https://localhost:8080/"
        },
        "id": "_Wyi9UJDPaGX",
        "outputId": "2ce259da-6783-423f-8107-795fd6eb0c20"
      },
      "execution_count": 50,
      "outputs": [
        {
          "output_type": "stream",
          "name": "stdout",
          "text": [
            "El encuentro este viernes entre Antony Blinken, secretario de Estado de Estados Unidos, y Serguéi Lavrov, su homólogo ruso, en medio de la crisis que desde diciembre se vive en la frontera rusoucraniana, terminó sin mayores avances, pero bajó la tensión.\n",
            "Antes de la reunión del viernes se dieron múltiples amenazas, como la que recae sobre Ucrania en este momento, pues desde diciembre del año pasado hay cerca de cien mil soldados rusos en su frontera.\n",
            "Lavrov, como mensajero de Moscú, conversó con el funcionario gringo sobre las pretensiones de su Gobierno, que espera que la OTAN (Organización del Tratado del Atlántico Norte) cese su ampliación hacia el este.\n",
            "Por ello, al término del encuentro, Jen Psaki, portavoz presidencial de Biden, informó que el fin de semana habrá una reunión para discutir los posibles pasos a seguir.\n"
          ]
        }
      ]
    }
  ]
}